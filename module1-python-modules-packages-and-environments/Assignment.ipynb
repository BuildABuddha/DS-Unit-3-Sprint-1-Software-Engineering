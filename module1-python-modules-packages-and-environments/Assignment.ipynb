{
  "nbformat": 4,
  "nbformat_minor": 0,
  "metadata": {
    "colab": {
      "name": "Assignment.ipynb",
      "provenance": [],
      "authorship_tag": "ABX9TyO+q1G90QAjzNLBe3BEnQYf",
      "include_colab_link": true
    },
    "kernelspec": {
      "name": "python3",
      "display_name": "Python 3"
    }
  },
  "cells": [
    {
      "cell_type": "markdown",
      "metadata": {
        "id": "view-in-github",
        "colab_type": "text"
      },
      "source": [
        "<a href=\"https://colab.research.google.com/github/BuildABuddha/DS-Unit-3-Sprint-1-Software-Engineering/blob/master/module1-python-modules-packages-and-environments/Assignment.ipynb\" target=\"_parent\"><img src=\"https://colab.research.google.com/assets/colab-badge.svg\" alt=\"Open In Colab\"/></a>"
      ]
    },
    {
      "cell_type": "code",
      "metadata": {
        "id": "-6ccvBZCkdap",
        "colab_type": "code",
        "outputId": "79bc83e2-76cf-4156-8c15-a34a87477287",
        "colab": {
          "base_uri": "https://localhost:8080/",
          "height": 171
        }
      },
      "source": [
        "!pip install --index-url https://test.pypi.org/simple/ lambdata-LawrenceKimsey==1.3"
      ],
      "execution_count": 2,
      "outputs": [
        {
          "output_type": "stream",
          "text": [
            "Looking in indexes: https://test.pypi.org/simple/\n",
            "Collecting lambdata-LawrenceKimsey==1.3\n",
            "  Downloading https://test-files.pythonhosted.org/packages/21/41/fd0cc2734239cf3b24c89f96330b05068aecbe2b32885578fedfe7223882/lambdata_LawrenceKimsey-1.3-py3-none-any.whl\n",
            "Installing collected packages: lambdata-LawrenceKimsey\n",
            "  Found existing installation: lambdata-LawrenceKimsey 1.2\n",
            "    Uninstalling lambdata-LawrenceKimsey-1.2:\n",
            "      Successfully uninstalled lambdata-LawrenceKimsey-1.2\n",
            "Successfully installed lambdata-LawrenceKimsey-1.3\n"
          ],
          "name": "stdout"
        }
      ]
    },
    {
      "cell_type": "code",
      "metadata": {
        "id": "VB-Bn9mWkpgZ",
        "colab_type": "code",
        "outputId": "ef4aeb54-102a-4885-9454-6bac7b136ae9",
        "colab": {
          "base_uri": "https://localhost:8080/",
          "height": 34
        }
      },
      "source": [
        "from my_lambdata.my_mod import enlarge\n",
        "\n",
        "enlarge(5)"
      ],
      "execution_count": 3,
      "outputs": [
        {
          "output_type": "execute_result",
          "data": {
            "text/plain": [
              "500"
            ]
          },
          "metadata": {
            "tags": []
          },
          "execution_count": 3
        }
      ]
    },
    {
      "cell_type": "code",
      "metadata": {
        "id": "6Ui8pM0SlUqR",
        "colab_type": "code",
        "colab": {
          "base_uri": "https://localhost:8080/",
          "height": 1000
        },
        "outputId": "9c885a27-fe52-4df0-8957-85ae44157770"
      },
      "source": [
        "from my_lambdata.my_mod import print_midi_events\n",
        "\n",
        "print_midi_events('test.mid')"
      ],
      "execution_count": 5,
      "outputs": [
        {
          "output_type": "stream",
          "text": [
            "<midi file 'test.mid' type 1, 1 tracks, 102 messages>\n",
            "<midi track 'Harp' 102 messages>\n",
            "<meta message time_signature numerator=4 denominator=4 clocks_per_click=24 notated_32nd_notes_per_beat=8 time=0>\n",
            "<meta message set_tempo tempo=500000 time=0>\n",
            "<meta message track_name name='Harp' time=0>\n",
            "note_on channel=0 note=72 velocity=100 time=0\n",
            "note_on channel=0 note=65 velocity=100 time=0\n",
            "note_on channel=0 note=69 velocity=100 time=0\n",
            "note_on channel=0 note=62 velocity=100 time=0\n",
            "program_change channel=0 program=46 time=0\n",
            "note_off channel=0 note=72 velocity=0 time=768\n",
            "note_off channel=0 note=65 velocity=0 time=0\n",
            "note_off channel=0 note=69 velocity=0 time=0\n",
            "note_off channel=0 note=62 velocity=0 time=0\n",
            "note_on channel=0 note=59 velocity=100 time=0\n",
            "note_off channel=0 note=59 velocity=0 time=192\n",
            "note_on channel=0 note=62 velocity=100 time=0\n",
            "note_off channel=0 note=62 velocity=0 time=192\n",
            "note_on channel=0 note=65 velocity=100 time=0\n",
            "note_off channel=0 note=65 velocity=0 time=192\n",
            "note_on channel=0 note=69 velocity=100 time=0\n",
            "note_on channel=0 note=69 velocity=100 time=192\n",
            "note_on channel=0 note=72 velocity=100 time=0\n",
            "note_off channel=0 note=69 velocity=0 time=192\n",
            "note_off channel=0 note=72 velocity=0 time=0\n",
            "note_on channel=0 note=69 velocity=100 time=0\n",
            "note_on channel=0 note=65 velocity=100 time=0\n",
            "note_off channel=0 note=69 velocity=0 time=192\n",
            "note_off channel=0 note=69 velocity=0 time=0\n",
            "note_on channel=0 note=65 velocity=100 time=0\n",
            "note_on channel=0 note=62 velocity=100 time=0\n",
            "note_off channel=0 note=65 velocity=0 time=192\n",
            "note_off channel=0 note=65 velocity=0 time=0\n",
            "note_on channel=0 note=62 velocity=100 time=0\n",
            "note_on channel=0 note=59 velocity=100 time=0\n",
            "note_off channel=0 note=62 velocity=0 time=192\n",
            "note_on channel=0 note=59 velocity=100 time=0\n",
            "note_on channel=0 note=62 velocity=100 time=0\n",
            "note_on channel=0 note=55 velocity=100 time=0\n",
            "note_off channel=0 note=59 velocity=0 time=192\n",
            "note_off channel=0 note=62 velocity=0 time=0\n",
            "note_off channel=0 note=55 velocity=0 time=0\n",
            "note_on channel=0 note=62 velocity=100 time=0\n",
            "note_on channel=0 note=59 velocity=100 time=0\n",
            "note_on channel=0 note=65 velocity=100 time=0\n",
            "note_off channel=0 note=59 velocity=0 time=192\n",
            "note_off channel=0 note=62 velocity=0 time=0\n",
            "note_off channel=0 note=59 velocity=0 time=0\n",
            "note_on channel=0 note=69 velocity=100 time=0\n",
            "note_on channel=0 note=65 velocity=100 time=0\n",
            "note_on channel=0 note=62 velocity=100 time=0\n",
            "note_off channel=0 note=62 velocity=0 time=192\n",
            "note_off channel=0 note=65 velocity=0 time=0\n",
            "note_off channel=0 note=62 velocity=0 time=0\n",
            "note_on channel=0 note=69 velocity=100 time=0\n",
            "note_on channel=0 note=65 velocity=100 time=0\n",
            "note_on channel=0 note=72 velocity=100 time=0\n",
            "<meta message set_tempo tempo=600000 time=192>\n",
            "note_off channel=0 note=65 velocity=0 time=0\n",
            "note_off channel=0 note=69 velocity=0 time=0\n",
            "note_off channel=0 note=69 velocity=0 time=0\n",
            "note_off channel=0 note=65 velocity=0 time=0\n",
            "note_on channel=0 note=72 velocity=100 time=0\n",
            "note_on channel=0 note=69 velocity=100 time=0\n",
            "note_off channel=0 note=72 velocity=0 time=192\n",
            "note_off channel=0 note=72 velocity=0 time=0\n",
            "note_on channel=0 note=69 velocity=100 time=0\n",
            "note_on channel=0 note=65 velocity=100 time=0\n",
            "note_off channel=0 note=69 velocity=0 time=192\n",
            "note_off channel=0 note=69 velocity=0 time=0\n",
            "note_on channel=0 note=65 velocity=100 time=0\n",
            "note_on channel=0 note=62 velocity=100 time=0\n",
            "note_off channel=0 note=65 velocity=0 time=192\n",
            "note_off channel=0 note=65 velocity=0 time=0\n",
            "note_on channel=0 note=59 velocity=100 time=0\n",
            "note_on channel=0 note=62 velocity=100 time=0\n",
            "note_off channel=0 note=62 velocity=0 time=192\n",
            "note_on channel=0 note=62 velocity=100 time=0\n",
            "note_on channel=0 note=59 velocity=100 time=0\n",
            "note_on channel=0 note=55 velocity=100 time=0\n",
            "note_off channel=0 note=62 velocity=0 time=192\n",
            "note_off channel=0 note=59 velocity=0 time=0\n",
            "note_off channel=0 note=55 velocity=0 time=0\n",
            "note_on channel=0 note=59 velocity=100 time=0\n",
            "note_on channel=0 note=62 velocity=100 time=0\n",
            "note_on channel=0 note=65 velocity=100 time=0\n",
            "note_off channel=0 note=59 velocity=0 time=192\n",
            "note_off channel=0 note=59 velocity=0 time=0\n",
            "note_off channel=0 note=62 velocity=0 time=0\n",
            "note_on channel=0 note=62 velocity=100 time=0\n",
            "note_on channel=0 note=65 velocity=100 time=0\n",
            "note_on channel=0 note=68 velocity=100 time=0\n",
            "note_off channel=0 note=62 velocity=0 time=192\n",
            "note_off channel=0 note=62 velocity=0 time=0\n",
            "note_off channel=0 note=65 velocity=0 time=0\n",
            "note_on channel=0 note=65 velocity=100 time=0\n",
            "note_on channel=0 note=68 velocity=100 time=0\n",
            "note_on channel=0 note=72 velocity=100 time=0\n",
            "note_off channel=0 note=65 velocity=0 time=192\n",
            "note_off channel=0 note=68 velocity=0 time=0\n",
            "note_off channel=0 note=65 velocity=0 time=0\n",
            "note_off channel=0 note=68 velocity=0 time=0\n",
            "note_off channel=0 note=72 velocity=0 time=0\n",
            "<meta message end_of_track time=3072>\n"
          ],
          "name": "stdout"
        }
      ]
    }
  ]
}