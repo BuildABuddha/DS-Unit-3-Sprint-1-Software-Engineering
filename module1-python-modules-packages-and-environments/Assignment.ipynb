{
  "nbformat": 4,
  "nbformat_minor": 0,
  "metadata": {
    "colab": {
      "name": "Untitled2.ipynb",
      "provenance": [],
      "authorship_tag": "ABX9TyMf2MwYQ8ZDNzfmkcDkqX7Y",
      "include_colab_link": true
    },
    "kernelspec": {
      "name": "python3",
      "display_name": "Python 3"
    }
  },
  "cells": [
    {
      "cell_type": "markdown",
      "metadata": {
        "id": "view-in-github",
        "colab_type": "text"
      },
      "source": [
        "<a href=\"https://colab.research.google.com/github/BuildABuddha/DS-Unit-3-Sprint-1-Software-Engineering/blob/master/module1-python-modules-packages-and-environments/Assignment.ipynb\" target=\"_parent\"><img src=\"https://colab.research.google.com/assets/colab-badge.svg\" alt=\"Open In Colab\"/></a>"
      ]
    },
    {
      "cell_type": "code",
      "metadata": {
        "id": "-6ccvBZCkdap",
        "colab_type": "code",
        "outputId": "5297ad07-3eaa-4205-fb58-2b6689327d2e",
        "colab": {
          "base_uri": "https://localhost:8080/",
          "height": 101
        }
      },
      "source": [
        "!pip install --index-url https://test.pypi.org/simple/ lambdata-LawrenceKimsey"
      ],
      "execution_count": 0,
      "outputs": [
        {
          "output_type": "stream",
          "text": [
            "Looking in indexes: https://test.pypi.org/simple/\n",
            "Collecting lambdata-LawrenceKimsey\n",
            "  Downloading https://test-files.pythonhosted.org/packages/58/5a/8afeb8fcebe87900bb385e1e55001a4838daf34b5e9ec436f6e8181cabf9/lambdata_LawrenceKimsey-1.0-py3-none-any.whl\n",
            "Installing collected packages: lambdata-LawrenceKimsey\n",
            "Successfully installed lambdata-LawrenceKimsey-1.0\n"
          ],
          "name": "stdout"
        }
      ]
    },
    {
      "cell_type": "code",
      "metadata": {
        "id": "VB-Bn9mWkpgZ",
        "colab_type": "code",
        "outputId": "9b02d919-0653-4078-f241-b37c61287b8e",
        "colab": {
          "base_uri": "https://localhost:8080/",
          "height": 34
        }
      },
      "source": [
        "from my_lambdata.my_mod import enlarge\n",
        "\n",
        "enlarge(5)"
      ],
      "execution_count": 0,
      "outputs": [
        {
          "output_type": "execute_result",
          "data": {
            "text/plain": [
              "500"
            ]
          },
          "metadata": {
            "tags": []
          },
          "execution_count": 3
        }
      ]
    }
  ]
}